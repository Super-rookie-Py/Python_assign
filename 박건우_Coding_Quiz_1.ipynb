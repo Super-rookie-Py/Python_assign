{
  "nbformat": 4,
  "nbformat_minor": 0,
  "metadata": {
    "colab": {
      "name": "박건우 - Coding Quiz #1.ipynb",
      "provenance": [],
      "collapsed_sections": [],
      "include_colab_link": true
    },
    "kernelspec": {
      "name": "python3",
      "display_name": "Python 3"
    }
  },
  "cells": [
    {
      "cell_type": "markdown",
      "metadata": {
        "id": "view-in-github",
        "colab_type": "text"
      },
      "source": [
        "<a href=\"https://colab.research.google.com/github/Super-rookie-Py/Python_assign/blob/master/%EB%B0%95%EA%B1%B4%EC%9A%B0_Coding_Quiz_1.ipynb\" target=\"_parent\"><img src=\"https://colab.research.google.com/assets/colab-badge.svg\" alt=\"Open In Colab\"/></a>"
      ]
    },
    {
      "cell_type": "markdown",
      "metadata": {
        "id": "xNP769bx9vfC",
        "colab_type": "text"
      },
      "source": [
        "# Coding Quiz #1"
      ]
    },
    {
      "cell_type": "markdown",
      "metadata": {
        "id": "31ATM9vUxJQ0",
        "colab_type": "text"
      },
      "source": [
        "## 1부터 100 사이의 홀수와 짝수의 누적합을 구하시오. (10점)"
      ]
    },
    {
      "cell_type": "code",
      "metadata": {
        "id": "ZVXTJT-J9p_n",
        "colab_type": "code",
        "colab": {
          "base_uri": "https://localhost:8080/",
          "height": 52
        },
        "outputId": "626f19cc-4c1b-483d-fc80-6f921cb793e5"
      },
      "source": [
        "even_sum = 0\n",
        "odd_sum = 0\n",
        "\n",
        "for i in range(1, 101):\n",
        "  if i % 2 == 0:\n",
        "    even_sum += i\n",
        "  else:\n",
        "    odd_sum += i\n",
        "\n",
        "print(\"홀수의 합:\", odd_sum)\n",
        "print(\"짝수의 합:\", even_sum)\n",
        "  "
      ],
      "execution_count": 21,
      "outputs": [
        {
          "output_type": "stream",
          "text": [
            "홀수의 합: 2500\n",
            "짝수의 합: 2550\n"
          ],
          "name": "stdout"
        }
      ]
    },
    {
      "cell_type": "markdown",
      "metadata": {
        "id": "tl6BsWC-7OOI",
        "colab_type": "text"
      },
      "source": [
        "## 2부터 100 사이의 소수를 구하는 코드를 작성하시오. (30점)"
      ]
    },
    {
      "cell_type": "code",
      "metadata": {
        "id": "pGmfIij77QoI",
        "colab_type": "code",
        "colab": {
          "base_uri": "https://localhost:8080/",
          "height": 461
        },
        "outputId": "0b59de59-ea09-474f-8f1d-8191c77783ef"
      },
      "source": [
        "for i in range(2, 101):\n",
        "  count = 0\n",
        "  # 1부터 자기 자신까지 나누어떨어지는 횟수를 센다.\n",
        "  for j in range(1,i+1):\n",
        "    if i % j == 0: count += 1\n",
        "  # 약수가 1과 자기 자신 뿐인 경우 소수\n",
        "  if count == 2: print(j)"
      ],
      "execution_count": 20,
      "outputs": [
        {
          "output_type": "stream",
          "text": [
            "2\n",
            "3\n",
            "5\n",
            "7\n",
            "11\n",
            "13\n",
            "17\n",
            "19\n",
            "23\n",
            "29\n",
            "31\n",
            "37\n",
            "41\n",
            "43\n",
            "47\n",
            "53\n",
            "59\n",
            "61\n",
            "67\n",
            "71\n",
            "73\n",
            "79\n",
            "83\n",
            "89\n",
            "97\n"
          ],
          "name": "stdout"
        }
      ]
    },
    {
      "cell_type": "markdown",
      "metadata": {
        "id": "oCvySvayxyC_",
        "colab_type": "text"
      },
      "source": [
        "## 가장 짧은 도시 이름을 출력하는 코드를 작성하시오. (30점)"
      ]
    },
    {
      "cell_type": "code",
      "metadata": {
        "id": "aazKycs4yImx",
        "colab_type": "code",
        "colab": {
          "base_uri": "https://localhost:8080/",
          "height": 34
        },
        "outputId": "841dcbbd-2864-4e40-e918-ffcf231df42b"
      },
      "source": [
        "cities = ['daejeon', 'seoul', 'daegu', 'busan', 'chuncheon', 'uijeongbu']\n",
        "\n",
        "min_value = 100000000\n",
        "min_city = \"\"\n",
        "\n",
        "for city in cities:\n",
        "  if min_value > len(city):\n",
        "    min_value = len(city)\n",
        "    min_city = city\n",
        "\n",
        "print(min_city)"
      ],
      "execution_count": 26,
      "outputs": [
        {
          "output_type": "stream",
          "text": [
            "seoul\n"
          ],
          "name": "stdout"
        }
      ]
    },
    {
      "cell_type": "markdown",
      "metadata": {
        "id": "vNZR8EPUyn2R",
        "colab_type": "text"
      },
      "source": [
        "## 나이에 따른 입장료를 계산하는 코드를 작성하시오. (30점)\n",
        "\n",
        "* 1~7세: 1000원\n",
        "* 8~20세: 2000원\n",
        "* 21~40세: 3000원\n",
        "* 41~세: 1500원"
      ]
    },
    {
      "cell_type": "code",
      "metadata": {
        "id": "O41hi254yrqG",
        "colab_type": "code",
        "colab": {
          "base_uri": "https://localhost:8080/",
          "height": 34
        },
        "outputId": "e1a1cf96-168b-4efc-cdd0-b86afb8bc5ae"
      },
      "source": [
        "age = 30\n",
        "pay = 0\n",
        "\n",
        "if age < 8:\n",
        "  pay = 1000\n",
        "elif age < 21:\n",
        "  pay = 2000\n",
        "elif age < 41:\n",
        "  pay = 3000\n",
        "else:\n",
        "  pay = 1500\n",
        "\n",
        "print(\"나이: {0}, 입장료: {1}\".format(age, pay))"
      ],
      "execution_count": 28,
      "outputs": [
        {
          "output_type": "stream",
          "text": [
            "나이: 30, 입장료: 3000\n"
          ],
          "name": "stdout"
        }
      ]
    }
  ]
}