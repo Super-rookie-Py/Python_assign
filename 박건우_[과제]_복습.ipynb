{
  "nbformat": 4,
  "nbformat_minor": 0,
  "metadata": {
    "colab": {
      "name": "박건우 - [과제] 복습.ipynb",
      "provenance": [],
      "collapsed_sections": [],
      "include_colab_link": true
    },
    "kernelspec": {
      "name": "python3",
      "display_name": "Python 3"
    }
  },
  "cells": [
    {
      "cell_type": "markdown",
      "metadata": {
        "id": "view-in-github",
        "colab_type": "text"
      },
      "source": [
        "<a href=\"https://colab.research.google.com/github/Super-rookie-Py/Python_assign/blob/master/%EB%B0%95%EA%B1%B4%EC%9A%B0_%5B%EA%B3%BC%EC%A0%9C%5D_%EB%B3%B5%EC%8A%B5.ipynb\" target=\"_parent\"><img src=\"https://colab.research.google.com/assets/colab-badge.svg\" alt=\"Open In Colab\"/></a>"
      ]
    },
    {
      "cell_type": "markdown",
      "metadata": {
        "id": "DxZtWJMDUJ_h",
        "colab_type": "text"
      },
      "source": [
        "- keonwoo Park 2020/08/24"
      ]
    },
    {
      "cell_type": "markdown",
      "metadata": {
        "id": "Y7Tsxss0GsRO",
        "colab_type": "text"
      },
      "source": [
        "## 주민등록번호를 입력받아 생년월일과 성별을 확인하는 코드를 작성하세요."
      ]
    },
    {
      "cell_type": "code",
      "metadata": {
        "id": "C6kvxWkZGsnA",
        "colab_type": "code",
        "colab": {
          "base_uri": "https://localhost:8080/",
          "height": 52
        },
        "outputId": "23551e88-7b77-4c5d-f01b-e6e2e3ef7ed3"
      },
      "source": [
        "reg_num = input(\"주민등록번호(13자리 숫자만 입력하세요.):\")\n",
        "\n",
        "gender = int(reg_num[6])\n",
        "year = reg_num[:2]\n",
        "month = reg_num[2:4]\n",
        "day = reg_num[4:6]\n",
        "\n",
        "if gender > 2:\n",
        "  if gender == 3:\n",
        "    print(\"20\"+year+\"년\", month + \"월\", day + '일 생', '남자')\n",
        "  else:\n",
        "    print(\"20\"+year+\"년\", month + \"월\", day + '일 생', '여자')\n",
        "else:\n",
        "  if gender == 1:\n",
        "    print(\"19\"+year+\"년\", month + \"월\", day + '일 생', '남자')\n",
        "  else:\n",
        "    print(\"19\"+year+\"년\", month + \"월\", day + '일 생', '여자')\n"
      ],
      "execution_count": null,
      "outputs": [
        {
          "output_type": "stream",
          "text": [
            "주민등록번호(13자리 숫자만 입력하세요.):9706141234567\n",
            "1997년 06월 14일 생 남자\n"
          ],
          "name": "stdout"
        }
      ]
    },
    {
      "cell_type": "markdown",
      "metadata": {
        "id": "31ATM9vUxJQ0",
        "colab_type": "text"
      },
      "source": [
        "## 초를 입력받아 시:분:초를 계산하여 출력하는 프로그램을 작성하세요."
      ]
    },
    {
      "cell_type": "code",
      "metadata": {
        "id": "ZVXTJT-J9p_n",
        "colab_type": "code",
        "colab": {
          "base_uri": "https://localhost:8080/",
          "height": 52
        },
        "outputId": "12a6ae2b-2b94-4f63-8ec1-e6dfd4ee9152"
      },
      "source": [
        "from datetime import time\n",
        "input_sec = int(input(\"초를 입력하세요: \"))\n",
        "\n",
        "hour = input_sec // 3600\n",
        "minute = (input_sec - 3600 * hour) // 60\n",
        "sec = (input_sec - 3600 * hour) % 60\n",
        "\n",
        "print(time(hour,minute,sec))"
      ],
      "execution_count": null,
      "outputs": [
        {
          "output_type": "stream",
          "text": [
            "초를 입력하세요: 5000\n",
            "01:23:20\n"
          ],
          "name": "stdout"
        }
      ]
    },
    {
      "cell_type": "markdown",
      "metadata": {
        "id": "tl6BsWC-7OOI",
        "colab_type": "text"
      },
      "source": [
        "## 가장 높은 점수와 가장 낮은 점수의 차이를 계산하세요."
      ]
    },
    {
      "cell_type": "code",
      "metadata": {
        "id": "pGmfIij77QoI",
        "colab_type": "code",
        "colab": {
          "base_uri": "https://localhost:8080/",
          "height": 52
        },
        "outputId": "462a6c24-62d6-4eb5-ad33-de9c4e52f54d"
      },
      "source": [
        "score = [45, 60, 78, 66, 50, 88, 92, 74, 36, 96]\n",
        "\n",
        "max_score = -1\n",
        "min_score = 100000000\n",
        "\n",
        "for i in score:\n",
        "  if max_score < i:\n",
        "    max_score = i\n",
        "  if min_score > i:\n",
        "    min_score = i\n",
        "    \n",
        "print(\"가장 높은 점수: \", max_score)\n",
        "print(\"가장 낮은 점수: \", min_score)"
      ],
      "execution_count": null,
      "outputs": [
        {
          "output_type": "stream",
          "text": [
            "가장 높은 점수:  96\n",
            "가장 낮은 점수:  36\n"
          ],
          "name": "stdout"
        }
      ]
    },
    {
      "cell_type": "markdown",
      "metadata": {
        "id": "ET_8SMIsnER9",
        "colab_type": "text"
      },
      "source": [
        "## 한 회사의 출근부 프로그램을 작성하세요.\n",
        "### 요구사항\n",
        "1. 직원의 이름을 입력한다. \n",
        "2. 이름이 직원 이름 리스트에 존재하는 경우, 출근 시간을 출력한다.\n",
        "3. 직원 이름 리스트에 존재하지 않는 경우, \"출근 불가\" 를 출력한다."
      ]
    },
    {
      "cell_type": "code",
      "metadata": {
        "id": "ZpZvtJCYoEnB",
        "colab_type": "code",
        "colab": {}
      },
      "source": [
        "# 수정 전 코드, input값으로 입력하면 출근 여부가 나옴\n",
        "# from datetime import datetime\n",
        "\n",
        "# employee = [\"James\", \"Kelly\", \"Susan\", \"Daniel\", \"Andrew\", \"Pony\", \"Ken\"]\n",
        "# check = input(\"이름을 입력하세요: \")\n",
        "# if check in employee:\n",
        "#   now = datetime.now()\n",
        "#   print(now.strftime(check+\"(님)의 출근시간: %Y년 %m월 %d일 %H시 %M분 %S초\"))\n",
        "# else:\n",
        "#   print(\"출근 불가\")"
      ],
      "execution_count": null,
      "outputs": []
    },
    {
      "cell_type": "code",
      "metadata": {
        "id": "gE3br9eY8q-Y",
        "colab_type": "code",
        "colab": {}
      },
      "source": [
        "# 수정 후 코드 클래스로 정리하여 check_in 함수 호출\n",
        "from datetime import datetime\n",
        "\n",
        "class Employee(object):\n",
        "  def __init__(self):\n",
        "    self.__items = [\"James\", \"Kelly\", \"Susan\", \"Daniel\", \"Andrew\", \"Pony\", \"Ken\"]\n",
        "\n",
        "  def check_in(self, name):\n",
        "    self.name = name\n",
        "    if self.name in self.__items:\n",
        "      now = datetime.now()\n",
        "      print(now.strftime(self.name +\"(님)의 출근시간: %Y년 %m월 %d일 %H시 %M분 %S초\"))\n",
        "    else:\n",
        "      print(\"출근 불가\")"
      ],
      "execution_count": null,
      "outputs": []
    },
    {
      "cell_type": "code",
      "metadata": {
        "id": "lAHOsP4x9GQm",
        "colab_type": "code",
        "colab": {
          "base_uri": "https://localhost:8080/",
          "height": 34
        },
        "outputId": "1d3c5589-a2ac-476d-d27a-9d71ba426dff"
      },
      "source": [
        "employee = Employee()\n",
        "# check_in 메서드로 출근자 이름 입력\n",
        "employee.check_in(\"James\")"
      ],
      "execution_count": null,
      "outputs": [
        {
          "output_type": "stream",
          "text": [
            "James(님)의 출근시간: 2020년 08월 24일 14시 53분 31초\n"
          ],
          "name": "stdout"
        }
      ]
    },
    {
      "cell_type": "markdown",
      "metadata": {
        "id": "ZtmVFUlSHVxH",
        "colab_type": "text"
      },
      "source": [
        "## 타자 게임 코드를 실행하고 발전시켜 보세요."
      ]
    },
    {
      "cell_type": "code",
      "metadata": {
        "id": "raevf66bzOzY",
        "colab_type": "code",
        "colab": {
          "base_uri": "https://localhost:8080/",
          "height": 354
        },
        "outputId": "13da488a-dbe3-4793-91f8-a89baf3bc0d7"
      },
      "source": [
        "import random\n",
        "import time\n",
        "\n",
        "# 문장 리스트 w 선언과 초기화!! : 노래 Lauv - Changes 가사\n",
        "\n",
        "w = [\"I'm getting rid of all my clothes I don't wear\",\n",
        "     \"I think I'm gonna cut my hair\",\n",
        "     \"'Cause these days, I don't feel like me, mm\",\n",
        "     \"I think I'm gonna take a break from alcohol\",\n",
        "     \"Probably won't last that long\",\n",
        "     \"But Lord knows I could use some sleep, mm\",\n",
        "     \"Changes, They might drive you half insane but\",\n",
        "     \"It's killing you to stay the same but\",\n",
        "     \"It's all gonna work out\",\n",
        "     \"It's all gonna work out someday\",\n",
        "     \"Moments, Living with your eyes half open\",\n",
        "     \"You've been thinking 'bout these changes\",\n",
        "     \"It's all gonna work out\",\n",
        "     \"It's all gonna work out someday\"]\n",
        "\n",
        "n = 1 # 문제 번호로 사용될 변수\n",
        "\n",
        "print('[타자 검정] 준비되면 엔터를 누르세요.')\n",
        "input()\n",
        "\n",
        "start = time.time() # 엔터 누르고 나서의 현재 시간을 start에 대입!\n",
        "q = random.choice(w) # 리스트 w에서 임의의 문장 선택\n",
        "\n",
        "score = 0       #단어 하나하나 맞출 때 마다 점수가 올라감\n",
        "total_word = 0  # 게임 중 제시된 총 단어의 개수\n",
        "\n",
        "while n <= 5 : # 문제는 5번까지만\n",
        "    print('** 문제', n, '번 **')\n",
        "    print(q)\n",
        "    x = input()\n",
        "\n",
        "\n",
        "    # 입력해야할 단어보다 적은 단어 입력시 부족한부분 공백으로 채워둠\n",
        "    if len(x) < len(q):\n",
        "      diff = len(q) - len(x)\n",
        "      x = x + \" \" * diff\n",
        "\n",
        "    # 단어 하나 하나 검사\n",
        "    for i in range(len(q)):\n",
        "      if x[i] == q[i]:\n",
        "        score += 1\n",
        "    total_word += len(q)\n",
        "    n += 1\n",
        "    q = random.choice(w)\n",
        "\n",
        "end = time.time()\n",
        "\n",
        "# 정확도\n",
        "accuracy = round(score/total_word , 2)\n",
        "\n",
        "et = end - start\n",
        "et = format(et, '.2f') # et의 값을 소수점 2자리 실수로 표현!\n",
        "\n",
        "print(\"정확도 : \", accuracy * 100 , '%')\n",
        "\n",
        "# 분당 타수\n",
        "minute = round((total_word / float(et) ) * 60 ,1)\n",
        "print('분당 타수 :', minute, '타')"
      ],
      "execution_count": null,
      "outputs": [
        {
          "output_type": "stream",
          "text": [
            "[타자 검정] 준비되면 엔터를 누르세요.\n",
            "\n",
            "** 문제 1 번 **\n",
            "Moments, Living with your eyes half open\n",
            "Moments, Living with your eyes half open\n",
            "** 문제 2 번 **\n",
            "It's all gonna work out\n",
            "It's all gonna work out\n",
            "** 문제 3 번 **\n",
            "Moments, Living with your eyes half open\n",
            "Moments, Living with your eyes half open\n",
            "** 문제 4 번 **\n",
            "I think I'm gonna take a break from alcohol\n",
            "I think I'm gonna take a break from alcohol\n",
            "** 문제 5 번 **\n",
            "You've been thinking 'bout these changes\n",
            "You've been thinking 'bout these changes\n",
            "정확도 :  100.0 %\n",
            "분당 타수 : 192.1 타\n"
          ],
          "name": "stdout"
        }
      ]
    }
  ]
}