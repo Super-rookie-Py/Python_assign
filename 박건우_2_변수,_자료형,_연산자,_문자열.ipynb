{
  "nbformat": 4,
  "nbformat_minor": 0,
  "metadata": {
    "colab": {
      "name": "박건우 - 2. 변수, 자료형, 연산자, 문자열",
      "provenance": [],
      "collapsed_sections": [],
      "include_colab_link": true
    },
    "kernelspec": {
      "name": "python3",
      "display_name": "Python 3"
    }
  },
  "cells": [
    {
      "cell_type": "markdown",
      "metadata": {
        "id": "view-in-github",
        "colab_type": "text"
      },
      "source": [
        "<a href=\"https://colab.research.google.com/github/Super-rookie-Py/Python_assign/blob/master/%EB%B0%95%EA%B1%B4%EC%9A%B0_2_%EB%B3%80%EC%88%98%2C_%EC%9E%90%EB%A3%8C%ED%98%95%2C_%EC%97%B0%EC%82%B0%EC%9E%90%2C_%EB%AC%B8%EC%9E%90%EC%97%B4.ipynb\" target=\"_parent\"><img src=\"https://colab.research.google.com/assets/colab-badge.svg\" alt=\"Open In Colab\"/></a>"
      ]
    },
    {
      "cell_type": "markdown",
      "metadata": {
        "id": "iMeRmlm2OMGT",
        "colab_type": "text"
      },
      "source": [
        "- keonwoo Park 2020/08/19"
      ]
    },
    {
      "cell_type": "markdown",
      "metadata": {
        "id": "BDWKG_OyeNk1",
        "colab_type": "text"
      },
      "source": [
        "### 1. 반지름(r)이 5인 원의 넓이(area)를 제곱 연산자를 이용하여 구하는 프로그램을 작성하시오. (원주율은 3.14)"
      ]
    },
    {
      "cell_type": "code",
      "metadata": {
        "id": "27PPOjAJi9sT",
        "colab_type": "code",
        "colab": {
          "base_uri": "https://localhost:8080/",
          "height": 35
        },
        "outputId": "0d53a4b2-a398-469d-dd9a-197a11153c6a"
      },
      "source": [
        "r = 5\n",
        "pi = 3.14\n",
        "area = (r ** 2)*pi\n",
        "print(area) "
      ],
      "execution_count": null,
      "outputs": [
        {
          "output_type": "stream",
          "text": [
            "78.5\n"
          ],
          "name": "stdout"
        }
      ]
    },
    {
      "cell_type": "markdown",
      "metadata": {
        "id": "gq9tX5XhewVn",
        "colab_type": "text"
      },
      "source": [
        "### 2. 변수 x, y 에 11, 22 를 각각 대입하고, 다른 변수 z를 이용하여 두 수를 교환하는 프로그램을 작성하시오."
      ]
    },
    {
      "cell_type": "code",
      "metadata": {
        "id": "ks12l5mWi-Mo",
        "colab_type": "code",
        "colab": {
          "base_uri": "https://localhost:8080/",
          "height": 35
        },
        "outputId": "01b781db-a45b-4b85-833b-3f1e0b698a67"
      },
      "source": [
        "x, y = 11, 22\n",
        "z = x\n",
        "x = y\n",
        "y = z\n",
        "print(x, y)"
      ],
      "execution_count": null,
      "outputs": [
        {
          "output_type": "stream",
          "text": [
            "22 11\n"
          ],
          "name": "stdout"
        }
      ]
    },
    {
      "cell_type": "markdown",
      "metadata": {
        "id": "vT6--DXzY783",
        "colab_type": "text"
      },
      "source": [
        "### 3. 다음 코드의 실행 결과를 확인하시오.\n",
        "\n",
        "`>>>` python = 'python is easy programming language.'\n",
        "\n",
        "`>>>` python[10:25]\n"
      ]
    },
    {
      "cell_type": "code",
      "metadata": {
        "id": "NcbsZUfSi_ER",
        "colab_type": "code",
        "colab": {
          "base_uri": "https://localhost:8080/",
          "height": 35
        },
        "outputId": "4c18d4c8-9f91-4983-f7f8-efd45344d54c"
      },
      "source": [
        "python = 'python is easy programming language.'\n",
        "print(python[10:25])"
      ],
      "execution_count": null,
      "outputs": [
        {
          "output_type": "stream",
          "text": [
            "easy programmin\n"
          ],
          "name": "stdout"
        }
      ]
    },
    {
      "cell_type": "markdown",
      "metadata": {
        "id": "u9cspxVCbjev",
        "colab_type": "text"
      },
      "source": [
        "### 4. name, age, location 변수를 생성하고 각각 'Kevin', 25, 'New York'을 대입한 후, 변수를 이용하여 아래와 같은 문장이 출력하는 코드를 작성하시오.\n",
        "Hello! My name is Kevin. I'm from New York. I am 25 years old. "
      ]
    },
    {
      "cell_type": "code",
      "metadata": {
        "id": "16lc5xQNi_wI",
        "colab_type": "code",
        "colab": {
          "base_uri": "https://localhost:8080/",
          "height": 35
        },
        "outputId": "231a49b6-9ea0-4476-88c1-69c214857025"
      },
      "source": [
        "name = \"Kevin\"\n",
        "age = 25\n",
        "location = 'New York'\n",
        "print(f\"Hello! My name is {name}. I'm from {location}. I am {age} years old.\")"
      ],
      "execution_count": null,
      "outputs": [
        {
          "output_type": "stream",
          "text": [
            "Hello! My name is Kevin. I'm from New York. I am 25 years old.\n"
          ],
          "name": "stdout"
        }
      ]
    },
    {
      "cell_type": "markdown",
      "metadata": {
        "id": "RKLDllUzdO9H",
        "colab_type": "text"
      },
      "source": [
        "### 5. 변수 string1 은 'red apple', 변수 string2는 'yellow banana'의 문자열을 담고 있다. 문자열 인덱싱을 이용하여 'red banana', 'yellow apple'을 출력해 보자."
      ]
    },
    {
      "cell_type": "code",
      "metadata": {
        "id": "OIw9zr-xjAPe",
        "colab_type": "code",
        "colab": {
          "base_uri": "https://localhost:8080/",
          "height": 53
        },
        "outputId": "8c0a2516-1d86-4c7a-ffeb-0a9b7ad727ee"
      },
      "source": [
        "string1 = 'red apple'\n",
        "string2 = 'yellow banana'\n",
        "print(string1[:4]+string2[7:])\n",
        "print(string2[:7]+string1[4:])"
      ],
      "execution_count": null,
      "outputs": [
        {
          "output_type": "stream",
          "text": [
            "red banana\n",
            "yellow apple\n"
          ],
          "name": "stdout"
        }
      ]
    }
  ]
}