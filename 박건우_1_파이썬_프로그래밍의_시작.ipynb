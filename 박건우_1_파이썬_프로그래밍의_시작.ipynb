{
  "nbformat": 4,
  "nbformat_minor": 0,
  "metadata": {
    "colab": {
      "name": "박건우 - 1. 파이썬 프로그래밍의 시작.ipynb",
      "provenance": [],
      "collapsed_sections": [],
      "include_colab_link": true
    },
    "kernelspec": {
      "name": "python3",
      "display_name": "Python 3"
    }
  },
  "cells": [
    {
      "cell_type": "markdown",
      "metadata": {
        "id": "view-in-github",
        "colab_type": "text"
      },
      "source": [
        "<a href=\"https://colab.research.google.com/github/Super-rookie-Py/Python_assign/blob/master/%EB%B0%95%EA%B1%B4%EC%9A%B0_1_%ED%8C%8C%EC%9D%B4%EC%8D%AC_%ED%94%84%EB%A1%9C%EA%B7%B8%EB%9E%98%EB%B0%8D%EC%9D%98_%EC%8B%9C%EC%9E%91.ipynb\" target=\"_parent\"><img src=\"https://colab.research.google.com/assets/colab-badge.svg\" alt=\"Open In Colab\"/></a>"
      ]
    },
    {
      "cell_type": "markdown",
      "metadata": {
        "id": "M2xfR2R9K2xr",
        "colab_type": "text"
      },
      "source": [
        "# 1. 파이썬 프로그래밍의 시작\n",
        "- keonwoo Park 2020/08/18"
      ]
    },
    {
      "cell_type": "markdown",
      "metadata": {
        "id": "UJU45JKZWOTk",
        "colab_type": "text"
      },
      "source": [
        "### 1. 다음 코드를 각각 실행하고 결과를 보이시오.\n",
        "`>>>` print(\"Hello\" + \"Python\")  \n",
        "\n",
        "`>>>` print(\"반갑습니다 \" * 10)\n",
        "\n",
        "`>>>` print(\"123\" + \"456\")\n",
        "\n",
        "`>>>` print(123+456)\n"
      ]
    },
    {
      "cell_type": "code",
      "metadata": {
        "id": "wK9EGBacc0M-",
        "colab_type": "code",
        "colab": {
          "base_uri": "https://localhost:8080/",
          "height": 35
        },
        "outputId": "69180d91-017a-4e8b-d2d4-e3ce4f26d6ee"
      },
      "source": [
        "print(\"Hello\"+\"Python\")"
      ],
      "execution_count": null,
      "outputs": [
        {
          "output_type": "stream",
          "text": [
            "HelloPython\n"
          ],
          "name": "stdout"
        }
      ]
    },
    {
      "cell_type": "code",
      "metadata": {
        "id": "Swy6QD08J8XD",
        "colab_type": "code",
        "colab": {
          "base_uri": "https://localhost:8080/",
          "height": 35
        },
        "outputId": "a7a02036-964b-48f5-8447-04a0715d991c"
      },
      "source": [
        "print(\"반갑습니다\"*10)"
      ],
      "execution_count": null,
      "outputs": [
        {
          "output_type": "stream",
          "text": [
            "반갑습니다반갑습니다반갑습니다반갑습니다반갑습니다반갑습니다반갑습니다반갑습니다반갑습니다반갑습니다\n"
          ],
          "name": "stdout"
        }
      ]
    },
    {
      "cell_type": "code",
      "metadata": {
        "id": "Wcuudc2QKe0o",
        "colab_type": "code",
        "colab": {
          "base_uri": "https://localhost:8080/",
          "height": 35
        },
        "outputId": "70c17523-44d3-43e4-a9cb-7605a6faa3ef"
      },
      "source": [
        "print(\"123\"+\"456\")"
      ],
      "execution_count": null,
      "outputs": [
        {
          "output_type": "stream",
          "text": [
            "123456\n"
          ],
          "name": "stdout"
        }
      ]
    },
    {
      "cell_type": "code",
      "metadata": {
        "id": "-S4mnxHmKhgh",
        "colab_type": "code",
        "colab": {
          "base_uri": "https://localhost:8080/",
          "height": 35
        },
        "outputId": "5b898d99-0bed-437b-8967-8a95f056cdff"
      },
      "source": [
        "print(123+456)"
      ],
      "execution_count": null,
      "outputs": [
        {
          "output_type": "stream",
          "text": [
            "579\n"
          ],
          "name": "stdout"
        }
      ]
    },
    {
      "cell_type": "markdown",
      "metadata": {
        "id": "VbI9LgV7Ur3g",
        "colab_type": "text"
      },
      "source": [
        "###2. print() 함수를 사용하여 다음과 같이 출력하는 코드를 작성하시오.\n",
        "\n",
        "-------\n",
        "3+8*4-6/3 은 [결과값] 입니다.\n",
        "\n",
        "*hint. print() 함수로 여러 개의 값을 출력할 때는 쉼표로 값들을 분리한다."
      ]
    },
    {
      "cell_type": "code",
      "metadata": {
        "id": "lXpyqR_Bc04x",
        "colab_type": "code",
        "colab": {
          "base_uri": "https://localhost:8080/",
          "height": 35
        },
        "outputId": "4b45231e-2f04-42d1-db22-59b52ef2a7f8"
      },
      "source": [
        "print(\"3+8*4-6/3 은:\", 3+8*4-6/3 ,\"입니다.\")"
      ],
      "execution_count": null,
      "outputs": [
        {
          "output_type": "stream",
          "text": [
            "3+8*4-6/3 은: 33.0 입니다.\n"
          ],
          "name": "stdout"
        }
      ]
    }
  ]
}