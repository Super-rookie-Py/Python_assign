{
  "nbformat": 4,
  "nbformat_minor": 0,
  "metadata": {
    "colab": {
      "name": "박건우 - 3. 군집 자료형, 제어문.ipynb",
      "provenance": [],
      "collapsed_sections": [],
      "include_colab_link": true
    },
    "kernelspec": {
      "name": "python3",
      "display_name": "Python 3"
    }
  },
  "cells": [
    {
      "cell_type": "markdown",
      "metadata": {
        "id": "view-in-github",
        "colab_type": "text"
      },
      "source": [
        "<a href=\"https://colab.research.google.com/github/Super-rookie-Py/Python_assign/blob/master/%EB%B0%95%EA%B1%B4%EC%9A%B0_3_%EA%B5%B0%EC%A7%91_%EC%9E%90%EB%A3%8C%ED%98%95%2C_%EC%A0%9C%EC%96%B4%EB%AC%B8.ipynb\" target=\"_parent\"><img src=\"https://colab.research.google.com/assets/colab-badge.svg\" alt=\"Open In Colab\"/></a>"
      ]
    },
    {
      "cell_type": "markdown",
      "metadata": {
        "id": "HJfxl6mJcym4",
        "colab_type": "text"
      },
      "source": [
        "- keonwoo Park 2020/08/20"
      ]
    },
    {
      "cell_type": "markdown",
      "metadata": {
        "id": "D8GPVyUrQo7r",
        "colab_type": "text"
      },
      "source": [
        "### 1. words_list 라는 list 안에 love, hate, I, happy, you, am, birthday, to, from, for, me, **dog** 라는 단어가 차례로 포함되어 있다. 이 단어들을 조합하여 2개의 문장을 만드시오."
      ]
    },
    {
      "cell_type": "code",
      "metadata": {
        "id": "U47LKQekElvb",
        "colab_type": "code",
        "colab": {
          "base_uri": "https://localhost:8080/",
          "height": 52
        },
        "outputId": "7f110797-0461-45e8-a9d3-75456f46d711"
      },
      "source": [
        "words_list = ['love', 'hate', 'I', 'happy', 'you', 'am', 'birthday', 'to','from', 'for', 'me', 'dog']\n",
        "print(words_list[2],words_list[5],words_list[3])\n",
        "print(words_list[2],words_list[0],words_list[4])"
      ],
      "execution_count": 3,
      "outputs": [
        {
          "output_type": "stream",
          "text": [
            "I am happy\n",
            "I love you\n"
          ],
          "name": "stdout"
        }
      ]
    },
    {
      "cell_type": "markdown",
      "metadata": {
        "id": "CySJTutQADOU",
        "colab_type": "text"
      },
      "source": [
        "### 2. 어느 카페의 메뉴가 4가지 있다. Americano, Cafe latte, Green tea latte, Cafe mocha 각 메뉴의 가격은 3000원, 4000원, 4500원, 5000원일 때, 이 메뉴 목록을 dictionary로 작성하고 Cafe latte와 Cafe mocha 를 주문했을 때 결제액을 계산하는 프로그램을 작성하시오."
      ]
    },
    {
      "cell_type": "code",
      "metadata": {
        "id": "U-1zjxchEma6",
        "colab_type": "code",
        "colab": {
          "base_uri": "https://localhost:8080/",
          "height": 34
        },
        "outputId": "c291f165-7081-4797-f637-a7bb38c71041"
      },
      "source": [
        "menu = {\"Americano\":3000 , \"Cafe latte\": 4000, \"Green tea latte\": 4500, \"Cafe mocha\": 5000}\n",
        "price = menu[\"Cafe latte\"]+menu[\"Cafe mocha\"]\n",
        "print(\"결제액은 {0}원 입니다.\".format(price))\n"
      ],
      "execution_count": 12,
      "outputs": [
        {
          "output_type": "stream",
          "text": [
            "결제액은 9000원 입니다.\n"
          ],
          "name": "stdout"
        }
      ]
    },
    {
      "cell_type": "markdown",
      "metadata": {
        "id": "V3hfOEUAickI",
        "colab_type": "text"
      },
      "source": [
        "### 3. 튜플을 원소로 갖는 리스트의 각 원소들의 합을 구하는 프로그램을 작성하시오.\n",
        "\n",
        "a = [(1, 2), (3, 4), (6, 7), (10, 11)]\n",
        "\n",
        "(hint) for (n1,n2) in a:\n",
        "\n"
      ]
    },
    {
      "cell_type": "code",
      "metadata": {
        "id": "wOn4EXfYEm7q",
        "colab_type": "code",
        "colab": {
          "base_uri": "https://localhost:8080/",
          "height": 87
        },
        "outputId": "99ed55a3-675c-486c-88f8-e348e7730128"
      },
      "source": [
        "a = [(1, 2), (3, 4), (5, 6), (7, 8)]\n",
        "\n",
        "for (n1,n2) in a:\n",
        "  print(n1+n2)"
      ],
      "execution_count": 14,
      "outputs": [
        {
          "output_type": "stream",
          "text": [
            "3\n",
            "7\n",
            "11\n",
            "15\n"
          ],
          "name": "stdout"
        }
      ]
    },
    {
      "cell_type": "markdown",
      "metadata": {
        "id": "P_Di3Ue4C-wV",
        "colab_type": "text"
      },
      "source": [
        "### 4. 10~30 사이의 홀수를 출력하고 그 홀수들의 합을 구하는 프로그램을 작성하시오."
      ]
    },
    {
      "cell_type": "code",
      "metadata": {
        "id": "bLwIQRwoEniM",
        "colab_type": "code",
        "colab": {
          "base_uri": "https://localhost:8080/",
          "height": 212
        },
        "outputId": "b8a201fb-c8d6-4352-b5d7-b1f335bfaf9f"
      },
      "source": [
        "num = [i for i in range(10,31) if i%2 == 1]\n",
        "sum = 0\n",
        "for i in num:\n",
        "  print(i)\n",
        "  sum += i\n",
        "else:\n",
        "  print(\"홀수 합:\",sum)"
      ],
      "execution_count": 33,
      "outputs": [
        {
          "output_type": "stream",
          "text": [
            "11\n",
            "13\n",
            "15\n",
            "17\n",
            "19\n",
            "21\n",
            "23\n",
            "25\n",
            "27\n",
            "29\n",
            "홀수 합: 200\n"
          ],
          "name": "stdout"
        }
      ]
    },
    {
      "cell_type": "markdown",
      "metadata": {
        "id": "_HWhDYotELJy",
        "colab_type": "text"
      },
      "source": [
        "### 5. 2020년이 윤년인지 검사하는 프로그램을 작성하시오.\n",
        "\n",
        "\n",
        "*  400 으로 나누어 떨어지는 해는 윤년이다.\n",
        "*  4로 나누어 떨어지는 해는 윤년이다.\n",
        "*  4로 나누어 떨어지지만 100으로 나누어 떨어지는 해는 윤년이 아니다.\n",
        "\n",
        "\n"
      ]
    },
    {
      "cell_type": "code",
      "metadata": {
        "id": "jBhHnB2LEoFS",
        "colab_type": "code",
        "colab": {
          "base_uri": "https://localhost:8080/",
          "height": 34
        },
        "outputId": "28ac02bc-d650-4dc6-a19b-f311ec8f5690"
      },
      "source": [
        "year = 2020\n",
        "\n",
        "if year % 400 == 0 or (year % 100 !=0 and year % 4 == 0):\n",
        "  print(\"{0}년은 윤년입니다.\".format(year))\n",
        "else:\n",
        "  print(\"{0}년은 윤년이 아닙니다.\".format(year))\n",
        "\n",
        "# for year in range(2020,2421):\n",
        "#  if year % 400 == 0 or (year % 100 !=0 and year % 4 == 0):\n",
        "#    print(\"{0}년은 윤년입니다.\".format(year))\n",
        "#  else:\n",
        "#    print(\"{0}년은 윤년이 아닙니다.\".format(year))"
      ],
      "execution_count": 32,
      "outputs": [
        {
          "output_type": "stream",
          "text": [
            "2020년은 윤년입니다.\n"
          ],
          "name": "stdout"
        }
      ]
    }
  ]
}