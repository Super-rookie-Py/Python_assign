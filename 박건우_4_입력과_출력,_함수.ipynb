{
  "nbformat": 4,
  "nbformat_minor": 0,
  "metadata": {
    "colab": {
      "name": "박건우 - 4. 입력과 출력, 함수.ipynb",
      "provenance": [],
      "collapsed_sections": [],
      "include_colab_link": true
    },
    "kernelspec": {
      "name": "python3",
      "display_name": "Python 3"
    }
  },
  "cells": [
    {
      "cell_type": "markdown",
      "metadata": {
        "id": "view-in-github",
        "colab_type": "text"
      },
      "source": [
        "<a href=\"https://colab.research.google.com/github/Super-rookie-Py/Python_assign/blob/master/%EB%B0%95%EA%B1%B4%EC%9A%B0_4_%EC%9E%85%EB%A0%A5%EA%B3%BC_%EC%B6%9C%EB%A0%A5%2C_%ED%95%A8%EC%88%98.ipynb\" target=\"_parent\"><img src=\"https://colab.research.google.com/assets/colab-badge.svg\" alt=\"Open In Colab\"/></a>"
      ]
    },
    {
      "cell_type": "markdown",
      "metadata": {
        "id": "xto3RMP0nmKV",
        "colab_type": "text"
      },
      "source": [
        "- keonwoo Park 2020/08/21"
      ]
    },
    {
      "cell_type": "markdown",
      "metadata": {
        "id": "HSg-KEAR0Xki",
        "colab_type": "text"
      },
      "source": [
        "### 1. 세 개의 양의 정수를 입력받아 그 합이 짝수이면 가장 큰 수를 출력하고, 홀수이면 가장 작은 수를 출력하는 프로그램을 작성하시오."
      ]
    },
    {
      "cell_type": "code",
      "metadata": {
        "id": "Q8rj7aWMG0ac",
        "colab_type": "code",
        "colab": {
          "base_uri": "https://localhost:8080/",
          "height": 52
        },
        "outputId": "232eaf53-9108-4a70-8ee4-c56649ff8f19"
      },
      "source": [
        "num = list(map(int, input(\"세 정수를 공백으로 구분하여 입력하세요: \").split()))\n",
        "\n",
        "max_num = 0\n",
        "min_num = 100000000000\n",
        "sum = 0\n",
        "\n",
        "for i in num:\n",
        "  sum += i\n",
        "  if i > max_num:\n",
        "    max_num = i\n",
        "  if i < min_num:\n",
        "    min_num = i\n",
        "\n",
        "if sum % 2 == 0:\n",
        "  print(\"가장 큰 수: \",max_num)\n",
        "else:\n",
        "  print(\"가장 작은 수: \", min_num)"
      ],
      "execution_count": 16,
      "outputs": [
        {
          "output_type": "stream",
          "text": [
            "세 정수를 공백으로 구분하여 입력하세요: 40 25 50\n",
            "가장 작은 수:  25\n"
          ],
          "name": "stdout"
        }
      ]
    },
    {
      "cell_type": "markdown",
      "metadata": {
        "id": "XFWLN7bz0l1I",
        "colab_type": "text"
      },
      "source": [
        "### 2. 두 점 사이의 거리를 구하는 프로그램을 작성하시오.\n",
        "\n",
        "\n",
        "*   두 점의 x, y 좌표를 각각 입력 받는다.\n",
        "*   두 점 사이의 거리를 구하는 공식은 다음과 같다.\n",
        "$${\\sqrt{(x1-x2)^2 + (y1-y2)^2}}$$\n",
        "\n",
        "*   제곱근은 (~)**0.5 로 표현한다.\n",
        "\n",
        "\n",
        "\n"
      ]
    },
    {
      "cell_type": "code",
      "metadata": {
        "id": "BHsCKJv5G1PZ",
        "colab_type": "code",
        "colab": {
          "base_uri": "https://localhost:8080/",
          "height": 70
        },
        "outputId": "afb9ec75-b682-4b75-8f67-e81f9ab68983"
      },
      "source": [
        "x1, y1 = map(int, input(\"첫 번째 점의 좌표를 입력하시오: \").split()) # x좌표와 y좌표의 입력 값은 공백으로 구분\n",
        "x2, y2 = map(int, input(\"두 번째 점의 좌표를 입력하시오: \").split())\n",
        "\n",
        "def distance(x1,y1, x2, y2):\n",
        "  return ((x1-x2)**2+(y1-y2)**2)**0.5\n",
        "\n",
        "print(distance(x1,y1,x2,y2))"
      ],
      "execution_count": 7,
      "outputs": [
        {
          "output_type": "stream",
          "text": [
            "첫 번째 점의 좌표를 입력하시오: 0 0\n",
            "두 번째 점의 좌표를 입력하시오: 4 3\n",
            "5.0\n"
          ],
          "name": "stdout"
        }
      ]
    },
    {
      "cell_type": "markdown",
      "metadata": {
        "id": "e-jMUe2h1w_i",
        "colab_type": "text"
      },
      "source": [
        "### 3. 2~99 사이의 정수를 입력하면 그 수의 약수를 출력하는 프로그램을 작성하시오."
      ]
    },
    {
      "cell_type": "code",
      "metadata": {
        "id": "5kyX5jipG2Ca",
        "colab_type": "code",
        "colab": {
          "base_uri": "https://localhost:8080/",
          "height": 70
        },
        "outputId": "f3b721ef-0b47-4749-8212-00e2547e61fd"
      },
      "source": [
        "N = int(input())\n",
        "\n",
        "def divisor(n):\n",
        "  for i in range(1,n+1):\n",
        "    if n % i == 0:\n",
        "      print(i , end = \" \")\n",
        "  else:\n",
        "    print(\"\\n\")\n",
        "\n",
        "divisor(N)"
      ],
      "execution_count": 10,
      "outputs": [
        {
          "output_type": "stream",
          "text": [
            "60\n",
            "1 2 3 4 5 6 10 12 15 20 30 60 \n",
            "\n"
          ],
          "name": "stdout"
        }
      ]
    },
    {
      "cell_type": "markdown",
      "metadata": {
        "id": "dhSKVgAo4z8-",
        "colab_type": "text"
      },
      "source": [
        "### 4. 사각형의 둘레를 구하는 함수를 작성하고, 가로 세로의 길이가 각각 3, 6인 사각형의 둘레를 함수를 이용하여 구해 보시오."
      ]
    },
    {
      "cell_type": "code",
      "metadata": {
        "id": "L3NL7lHSHQ8J",
        "colab_type": "code",
        "colab": {
          "base_uri": "https://localhost:8080/",
          "height": 34
        },
        "outputId": "fb41c545-7fc8-4b05-856c-f15448b6a860"
      },
      "source": [
        "def perimeter(width, height):\n",
        "  return (width+height) * 2\n",
        "\n",
        "print(perimeter(3, 6))"
      ],
      "execution_count": 11,
      "outputs": [
        {
          "output_type": "stream",
          "text": [
            "18\n"
          ],
          "name": "stdout"
        }
      ]
    },
    {
      "cell_type": "markdown",
      "metadata": {
        "id": "Q9YD6467HRd5",
        "colab_type": "text"
      },
      "source": [
        "### 5. 리스트로 작성한 학생 점수를 입력하면 최고점을 구하는 함수 high_score를 정의하고, 이 함수를 이용하여 아래 점수 중 최고점을 구하는 프로그램을 작성하시오.\n",
        "\n",
        "score = [60, 72, 98, 48, 100, 86]"
      ]
    },
    {
      "cell_type": "code",
      "metadata": {
        "id": "fm7ir_VPJTKT",
        "colab_type": "code",
        "colab": {
          "base_uri": "https://localhost:8080/",
          "height": 34
        },
        "outputId": "1fd31b05-43c6-4171-d954-b3b80adc8af1"
      },
      "source": [
        "score = [60, 72, 98, 48, 100, 86]\n",
        "\n",
        "def high_score(list):\n",
        "  high_score = -1\n",
        "  for i in list:\n",
        "    if i > high_score:\n",
        "      high_score = i\n",
        "  return high_score\n",
        "\n",
        "print(high_score(score))"
      ],
      "execution_count": 15,
      "outputs": [
        {
          "output_type": "stream",
          "text": [
            "100\n"
          ],
          "name": "stdout"
        }
      ]
    }
  ]
}